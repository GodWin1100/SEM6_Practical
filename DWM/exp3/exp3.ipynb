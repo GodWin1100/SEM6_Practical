{
 "metadata": {
  "language_info": {
   "codemirror_mode": {
    "name": "ipython",
    "version": 3
   },
   "file_extension": ".py",
   "mimetype": "text/x-python",
   "name": "python",
   "nbconvert_exporter": "python",
   "pygments_lexer": "ipython3",
   "version": "3.7.6-final"
  },
  "orig_nbformat": 2,
  "kernelspec": {
   "name": "python3",
   "display_name": "Python 3.7.6 64-bit ('test': conda)",
   "metadata": {
    "interpreter": {
     "hash": "1f17939f5fbec67af158657a695ef43de2a65b596ac12c40b66a5c64ab5d78ed"
    }
   }
  }
 },
 "nbformat": 4,
 "nbformat_minor": 2,
 "cells": [
  {
   "cell_type": "code",
   "execution_count": 1,
   "metadata": {},
   "outputs": [],
   "source": [
    "import pandas as pd\n",
    "import numpy as np\n",
    "import warnings\n",
    "import matplotlib.pyplot as plt\n",
    "warnings.filterwarnings('ignore')\n",
    "%matplotlib inline\n"
   ]
  },
  {
   "cell_type": "code",
   "execution_count": 2,
   "metadata": {},
   "outputs": [
    {
     "output_type": "execute_result",
     "data": {
      "text/plain": [
       "     Outlook Temperature Humidity   Wind PlayTennis\n",
       "0      Sunny         Hot     High  False         No\n",
       "1      Sunny         Hot     High   True         No\n",
       "2   Overcast         Hot     High  False        Yes\n",
       "3      Rainy        Mild     High  False        Yes\n",
       "4      Rainy        Cool   Normal  False        Yes\n",
       "5      Rainy        Cool   Normal   True         No\n",
       "6   Overcast        Cool   Normal   True        Yes\n",
       "7      Sunny        Mild     High  False         No\n",
       "8      Sunny        Cool   Normal  False        Yes\n",
       "9      Rainy        Mild   Normal  False        Yes\n",
       "10     Sunny        Mild   Normal   True        Yes\n",
       "11  Overcast        Mild     High   True        Yes\n",
       "12  Overcast         Hot   Normal  False        Yes\n",
       "13     Rainy        Mild     High   True         No"
      ],
      "text/html": "<div>\n<style scoped>\n    .dataframe tbody tr th:only-of-type {\n        vertical-align: middle;\n    }\n\n    .dataframe tbody tr th {\n        vertical-align: top;\n    }\n\n    .dataframe thead th {\n        text-align: right;\n    }\n</style>\n<table border=\"1\" class=\"dataframe\">\n  <thead>\n    <tr style=\"text-align: right;\">\n      <th></th>\n      <th>Outlook</th>\n      <th>Temperature</th>\n      <th>Humidity</th>\n      <th>Wind</th>\n      <th>PlayTennis</th>\n    </tr>\n  </thead>\n  <tbody>\n    <tr>\n      <th>0</th>\n      <td>Sunny</td>\n      <td>Hot</td>\n      <td>High</td>\n      <td>False</td>\n      <td>No</td>\n    </tr>\n    <tr>\n      <th>1</th>\n      <td>Sunny</td>\n      <td>Hot</td>\n      <td>High</td>\n      <td>True</td>\n      <td>No</td>\n    </tr>\n    <tr>\n      <th>2</th>\n      <td>Overcast</td>\n      <td>Hot</td>\n      <td>High</td>\n      <td>False</td>\n      <td>Yes</td>\n    </tr>\n    <tr>\n      <th>3</th>\n      <td>Rainy</td>\n      <td>Mild</td>\n      <td>High</td>\n      <td>False</td>\n      <td>Yes</td>\n    </tr>\n    <tr>\n      <th>4</th>\n      <td>Rainy</td>\n      <td>Cool</td>\n      <td>Normal</td>\n      <td>False</td>\n      <td>Yes</td>\n    </tr>\n    <tr>\n      <th>5</th>\n      <td>Rainy</td>\n      <td>Cool</td>\n      <td>Normal</td>\n      <td>True</td>\n      <td>No</td>\n    </tr>\n    <tr>\n      <th>6</th>\n      <td>Overcast</td>\n      <td>Cool</td>\n      <td>Normal</td>\n      <td>True</td>\n      <td>Yes</td>\n    </tr>\n    <tr>\n      <th>7</th>\n      <td>Sunny</td>\n      <td>Mild</td>\n      <td>High</td>\n      <td>False</td>\n      <td>No</td>\n    </tr>\n    <tr>\n      <th>8</th>\n      <td>Sunny</td>\n      <td>Cool</td>\n      <td>Normal</td>\n      <td>False</td>\n      <td>Yes</td>\n    </tr>\n    <tr>\n      <th>9</th>\n      <td>Rainy</td>\n      <td>Mild</td>\n      <td>Normal</td>\n      <td>False</td>\n      <td>Yes</td>\n    </tr>\n    <tr>\n      <th>10</th>\n      <td>Sunny</td>\n      <td>Mild</td>\n      <td>Normal</td>\n      <td>True</td>\n      <td>Yes</td>\n    </tr>\n    <tr>\n      <th>11</th>\n      <td>Overcast</td>\n      <td>Mild</td>\n      <td>High</td>\n      <td>True</td>\n      <td>Yes</td>\n    </tr>\n    <tr>\n      <th>12</th>\n      <td>Overcast</td>\n      <td>Hot</td>\n      <td>Normal</td>\n      <td>False</td>\n      <td>Yes</td>\n    </tr>\n    <tr>\n      <th>13</th>\n      <td>Rainy</td>\n      <td>Mild</td>\n      <td>High</td>\n      <td>True</td>\n      <td>No</td>\n    </tr>\n  </tbody>\n</table>\n</div>"
     },
     "metadata": {},
     "execution_count": 2
    }
   ],
   "source": [
    "data_dict = {\n",
    "    'Outlook' : ['Sunny', 'Sunny', 'Overcast', 'Rainy', 'Rainy', 'Rainy', 'Overcast', 'Sunny', 'Sunny','Rainy', 'Sunny', 'Overcast', 'Overcast', 'Rainy']\n",
    "    ,'Temperature': ['Hot', 'Hot', 'Hot', 'Mild', 'Cool', 'Cool', 'Cool', 'Mild', 'Cool', 'Mild','Mild','Mild', 'Hot', 'Mild']\n",
    "    ,'Humidity' : ['High', 'High', 'High', 'High', 'Normal', 'Normal', 'Normal', 'High','Normal','Normal', 'Normal', 'High', 'Normal', 'High']\n",
    "    ,'Wind': ['False', 'True', 'False', 'False', 'False', 'True', 'True', 'False', 'False', 'False', 'True', 'True', 'False', 'True']\n",
    "    ,'PlayTennis': ['No', 'No', 'Yes', 'Yes', 'Yes', 'No', 'Yes', 'No', 'Yes', 'Yes', 'Yes', 'Yes', 'Yes', 'No']\n",
    "}\n",
    "tennis_data = pd.DataFrame(data_dict, columns=data_dict.keys())\n",
    "tennis_data\n"
   ]
  },
  {
   "cell_type": "code",
   "execution_count": 3,
   "metadata": {},
   "outputs": [
    {
     "output_type": "display_data",
     "data": {
      "text/plain": "<IPython.core.display.Latex object>",
      "text/latex": "Entropy = $-\\sum_{i=1}^{n} P_i\\times Log_b(P_i)$\n"
     },
     "metadata": {}
    }
   ],
   "source": [
    "%%latex\n",
    "Entropy = $-\\sum_{i=1}^{n} P_i\\times Log_b(P_i)$"
   ]
  },
  {
   "cell_type": "code",
   "execution_count": 4,
   "metadata": {},
   "outputs": [],
   "source": [
    "def entropy_calculate(prob_list):\n",
    "\n",
    "    entropy = 0\n",
    "    for item in prob_list:\n",
    "        entropy -= item * np.log2(item)\n",
    "    return entropy"
   ]
  },
  {
   "cell_type": "code",
   "execution_count": 5,
   "metadata": {},
   "outputs": [
    {
     "output_type": "stream",
     "name": "stdout",
     "text": [
      "Probabilities of No and Yes are 0.357, 0.643 respectively\nEntire syetems entropy is 0.940 bits\n"
     ]
    }
   ],
   "source": [
    "cases,counts = np.unique(tennis_data.PlayTennis,return_counts=True)\n",
    "P = [count/len(tennis_data) for count in counts]\n",
    "print('Probabilities of %s and %s are %.3f, %.3f respectively'%(cases[0],cases[1],P[0],P[1]))\n",
    "\n",
    "entropy_entire = entropy_calculate(P)\n",
    "\n",
    "print('Entire syetems entropy is %.3f bits'%entropy_entire)\n",
    "cases_outlook,counts_outlook= np.unique(tennis_data.Outlook,return_counts=True)\n"
   ]
  },
  {
   "cell_type": "code",
   "execution_count": 6,
   "metadata": {},
   "outputs": [
    {
     "output_type": "stream",
     "name": "stdout",
     "text": [
      "For outlook:\n\tProbabality of Overcast is 0.286\n\tProbabality of Rainy is 0.357\n\tProbabality of Sunny is 0.357\n"
     ]
    }
   ],
   "source": [
    "cases_outlook,counts_outlook= np.unique(tennis_data.Outlook,return_counts=True)\n",
    "P_outlook = [count/len(tennis_data) for count in counts_outlook]\n",
    "print('For outlook:')\n",
    "for case, prob in zip(cases_outlook,P_outlook):\n",
    "    print('\\tProbabality of %s is %.3f'%(case, prob))\n"
   ]
  },
  {
   "cell_type": "code",
   "execution_count": 7,
   "metadata": {},
   "outputs": [
    {
     "output_type": "stream",
     "name": "stdout",
     "text": [
      "Entropy for Overcast is 0.00\nEntropy for Rainy is 0.97\nEntropy for Sunny is 0.97\n\nEntropy at Outlook decision level is 0.694\n\nInformation gain is 0.247\n"
     ]
    }
   ],
   "source": [
    "entropy_outlook={}\n",
    "total_entropy_outlook=0\n",
    "for case, prob in zip(cases_outlook,P_outlook):\n",
    "    cases,counts = np.unique(tennis_data.PlayTennis[tennis_data.Outlook==case],return_counts=True)\n",
    "    P = [count/len(tennis_data[tennis_data.Outlook==case]) for count in counts]\n",
    "    entropy_outlook[case]=entropy_calculate(P)\n",
    "    total_entropy_outlook += entropy_calculate(P)*prob\n",
    "\n",
    "for case, entropy in entropy_outlook.items():\n",
    "    print('Entropy for %s is %.2f'%(case,entropy))\n",
    "print('\\nEntropy at Outlook decision level is %.3f'%total_entropy_outlook)\n",
    "print('\\nInformation gain is %.3f'%(entropy_entire- total_entropy_outlook))\n"
   ]
  },
  {
   "cell_type": "code",
   "execution_count": 8,
   "metadata": {},
   "outputs": [
    {
     "output_type": "stream",
     "name": "stdout",
     "text": [
      "For temperature:\n\tProbabality of Cool is 0.286\n\tProbabality of Hot is 0.286\n\tProbabality of Mild is 0.429\n"
     ]
    }
   ],
   "source": [
    "cases_temperature,counts_temperature= np.unique(tennis_data.Temperature,return_counts=True)\n",
    "P_temperature = [count/len(tennis_data) for count in counts_temperature]\n",
    "print('For temperature:')\n",
    "for case, prob in zip(cases_temperature,P_temperature):\n",
    "    print('\\tProbabality of %s is %.3f'%(case, prob))\n"
   ]
  },
  {
   "cell_type": "code",
   "execution_count": 9,
   "metadata": {},
   "outputs": [
    {
     "output_type": "stream",
     "name": "stdout",
     "text": [
      "Entropy for Cool is 0.81\nEntropy for Hot is 1.00\nEntropy for Mild is 0.92\n\nEntropy at Temperature decision level is 0.911\n\nInformation gain is 0.029\n"
     ]
    }
   ],
   "source": [
    "entropy_temperature={}\n",
    "total_entropy_temperature=0\n",
    "for case, prob in zip(cases_temperature,P_temperature):\n",
    "    cases,counts = np.unique(tennis_data.PlayTennis[tennis_data.Temperature==case],return_counts=True)\n",
    "    P = [count/len(tennis_data[tennis_data.Temperature==case]) for count in counts]\n",
    "    entropy_temperature[case]=entropy_calculate(P)\n",
    "    total_entropy_temperature += entropy_calculate(P)*prob\n",
    "\n",
    "for case, entropy in entropy_temperature.items():\n",
    "    print('Entropy for %s is %.2f'%(case,entropy))\n",
    "print('\\nEntropy at Temperature decision level is %.3f'%total_entropy_temperature)\n",
    "print('\\nInformation gain is %.3f'%(entropy_entire- total_entropy_temperature))\n"
   ]
  },
  {
   "cell_type": "code",
   "execution_count": 10,
   "metadata": {},
   "outputs": [
    {
     "output_type": "stream",
     "name": "stdout",
     "text": [
      "For wind:\n\tProbabality of False is 0.571\n\tProbabality of True is 0.429\n"
     ]
    }
   ],
   "source": [
    "cases_wind,counts_wind= np.unique(tennis_data.Wind,return_counts=True)\n",
    "P_wind = [count/len(tennis_data) for count in counts_wind]\n",
    "print('For wind:')\n",
    "for case, prob in zip(cases_wind,P_wind):\n",
    "    print('\\tProbabality of %s is %.3f'%(case, prob))\n"
   ]
  },
  {
   "cell_type": "code",
   "execution_count": 11,
   "metadata": {},
   "outputs": [
    {
     "output_type": "stream",
     "name": "stdout",
     "text": [
      "Entropy for False is 0.81\nEntropy for True is 1.00\n\nEntropy at Wind decision level is 0.892\n\nInformation gain is 0.048\n"
     ]
    }
   ],
   "source": [
    "entropy_wind={}\n",
    "total_entropy_wind=0\n",
    "for case, prob in zip(cases_wind,P_wind):\n",
    "    cases,counts = np.unique(tennis_data.PlayTennis[tennis_data.Wind==case],return_counts=True)\n",
    "    P = [count/len(tennis_data[tennis_data.Wind==case]) for count in counts]\n",
    "    entropy_wind[case]=entropy_calculate(P)\n",
    "    total_entropy_wind += entropy_calculate(P)*prob\n",
    "\n",
    "for case, entropy in entropy_wind.items():\n",
    "    print('Entropy for %s is %.2f'%(case,entropy))\n",
    "print('\\nEntropy at Wind decision level is %.3f'%total_entropy_wind)\n",
    "print('\\nInformation gain is %.3f'%(entropy_entire- total_entropy_wind))\n"
   ]
  },
  {
   "cell_type": "code",
   "execution_count": 12,
   "metadata": {},
   "outputs": [
    {
     "output_type": "stream",
     "name": "stdout",
     "text": [
      "For humidity:\n\tProbabality of High is 0.500\n\tProbabality of Normal is 0.500\n"
     ]
    }
   ],
   "source": [
    "cases_humidity,counts_humidity= np.unique(tennis_data.Humidity,return_counts=True)\n",
    "P_humidity = [count/len(tennis_data) for count in counts_humidity]\n",
    "print('For humidity:')\n",
    "for case, prob in zip(cases_humidity,P_humidity):\n",
    "    print('\\tProbabality of %s is %.3f'%(case, prob))\n"
   ]
  },
  {
   "cell_type": "code",
   "execution_count": 13,
   "metadata": {},
   "outputs": [
    {
     "output_type": "stream",
     "name": "stdout",
     "text": [
      "Entropy for High is 0.99\nEntropy for Normal is 0.59\n\nEntropy at Humidity decision level is 0.788\n\nInformation gain is 0.152\n"
     ]
    }
   ],
   "source": [
    "entropy_humidity={}\n",
    "total_entropy_humidity=0\n",
    "for case, prob in zip(cases_humidity,P_humidity):\n",
    "    cases,counts = np.unique(tennis_data.PlayTennis[tennis_data.Humidity==case],return_counts=True)\n",
    "    P = [count/len(tennis_data[tennis_data.Humidity==case]) for count in counts]\n",
    "    entropy_humidity[case]=entropy_calculate(P)\n",
    "    total_entropy_humidity += entropy_calculate(P)*prob\n",
    "\n",
    "for case, entropy in entropy_humidity.items():\n",
    "    print('Entropy for %s is %.2f'%(case,entropy))\n",
    "print('\\nEntropy at Humidity decision level is %.3f'%total_entropy_humidity)\n",
    "print('\\nInformation gain is %.3f'%(entropy_entire- total_entropy_humidity))\n"
   ]
  }
 ]
}